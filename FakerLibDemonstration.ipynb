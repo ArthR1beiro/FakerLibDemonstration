{
 "cells": [
  {
   "cell_type": "code",
   "execution_count": 1,
   "id": "4cd1a7ec-6e06-4707-b400-00c358d93b78",
   "metadata": {},
   "outputs": [],
   "source": [
    "from faker import Faker\n",
    "# https://faker.readthedocs.io/en/master/locales/pt_BR.html#"
   ]
  },
  {
   "cell_type": "code",
   "execution_count": 2,
   "id": "4192f00b-bcb0-4893-af6d-ef65c7d07333",
   "metadata": {},
   "outputs": [],
   "source": [
    "fake = Faker ('pt_BR')"
   ]
  },
  {
   "cell_type": "code",
   "execution_count": 3,
   "id": "9264bba3-4e66-4d7e-9fb2-b7760da7f833",
   "metadata": {},
   "outputs": [
    {
     "name": "stdout",
     "output_type": "stream",
     "text": [
      "Nome: Maria Clara Silveira\n",
      "RG: 428501370\n",
      "CPF: 609.372.841-22\n",
      "Endereço: Residencial de Barbosa, 64\n",
      "Cardoso\n",
      "89976-745 Rezende do Oeste / BA\n",
      "Trabalha em: Amapá\n",
      "Mora em: Vila Aeroporto Jaraguá nº: 8, da Luz da Serra, Amazonas AM, Brazil\n",
      "CNPJ: 79.143.582/0001-15\n",
      "Placa: PDW-4829\n"
     ]
    }
   ],
   "source": [
    "print(\"Nome:\",fake.name()) #gerando nome, RG, CPF Região, Cidade, Bairro, sufixo,  Endereço falso\n",
    "print(\"RG:\",fake.rg())\n",
    "print(\"CPF:\",fake.cpf())\n",
    "print(\"Endereço:\",fake.address())\n",
    "print(\"Trabalha em:\",fake.administrative_unit())\n",
    "estado = fake.estado()\n",
    "print(\"Mora em:\", fake.bairro(),\"nº:\", fake.building_number()+\", \"+fake.city(), fake.city_suffix()+\", \"+estado[1],estado[0]+\", \"+fake.current_country())\n",
    "print(\"CNPJ:\", fake.cnpj())\n",
    "print(\"Placa:\", fake.license_plate())\n",
    "\n"
   ]
  },
  {
   "cell_type": "code",
   "execution_count": 4,
   "id": "c3662de3-273f-4f4d-862a-e76164b68b26",
   "metadata": {},
   "outputs": [
    {
     "name": "stdout",
     "output_type": "stream",
     "text": [
      "18/03/1997\n"
     ]
    }
   ],
   "source": [
    "data = fake.date()\n",
    "print(data[8:10]+\"/\"+data[5:7]+\"/\"+data[0:4])"
   ]
  },
  {
   "cell_type": "code",
   "execution_count": 5,
   "id": "090be061-141c-489e-abb0-09f8eae1a2ef",
   "metadata": {},
   "outputs": [
    {
     "data": {
      "text/plain": [
       "'16/05/1997'"
      ]
     },
     "execution_count": 5,
     "metadata": {},
     "output_type": "execute_result"
    }
   ],
   "source": [
    "fake.date('%d/%m/%Y')\n"
   ]
  },
  {
   "cell_type": "code",
   "execution_count": 6,
   "id": "2473811f-239b-43c2-adc8-9b894ed716f7",
   "metadata": {},
   "outputs": [
    {
     "name": "stdout",
     "output_type": "stream",
     "text": [
      "1994-04-11\n"
     ]
    }
   ],
   "source": [
    "dt = fake.date_of_birth(maximum_age= 30, minimum_age= 1) #https://docs.python.org/3/library/datetime.html (biblioteca usada no datetime)\n",
    "print(dt)"
   ]
  },
  {
   "cell_type": "code",
   "execution_count": 7,
   "id": "fdc2d3f3-6c2e-4065-94e7-e2baa2ab086c",
   "metadata": {},
   "outputs": [
    {
     "name": "stdout",
     "output_type": "stream",
     "text": [
      "maria-fernanda15@rocha.com\n"
     ]
    }
   ],
   "source": [
    "print(fake.ascii_company_email())"
   ]
  },
  {
   "cell_type": "code",
   "execution_count": 8,
   "id": "99f6b93e-48f3-46e0-885e-c4717215e55a",
   "metadata": {},
   "outputs": [
    {
     "name": "stdout",
     "output_type": "stream",
     "text": [
      "otavio71@ig.com.br\n"
     ]
    }
   ],
   "source": [
    "print(fake.ascii_free_email())"
   ]
  },
  {
   "cell_type": "code",
   "execution_count": 9,
   "id": "d2efa0b1-d976-45f6-9e65-bc6b775af5d5",
   "metadata": {},
   "outputs": [
    {
     "name": "stdout",
     "output_type": "stream",
     "text": [
      "novaeslara@example.org\n"
     ]
    }
   ],
   "source": [
    "print(fake.ascii_safe_email())"
   ]
  },
  {
   "cell_type": "code",
   "execution_count": 10,
   "id": "ca105a0a-8cc8-4f0a-8d7a-6d79b5eeeb30",
   "metadata": {},
   "outputs": [
    {
     "name": "stdout",
     "output_type": "stream",
     "text": [
      "da-pazluiz-henrique@arthuttutoriais\n"
     ]
    }
   ],
   "source": [
    "print(fake.email(domain = 'arthuttutoriais'))"
   ]
  },
  {
   "cell_type": "code",
   "execution_count": 11,
   "id": "a8aadce6-aade-4107-8bb6-69749e34e720",
   "metadata": {},
   "outputs": [
    {
     "name": "stdout",
     "output_type": "stream",
     "text": [
      "99.75.218.236\n"
     ]
    }
   ],
   "source": [
    "print(fake.ipv4())"
   ]
  },
  {
   "cell_type": "code",
   "execution_count": 12,
   "id": "65cb505a-2f83-40f3-94e5-26d1fde43e9f",
   "metadata": {},
   "outputs": [
    {
     "name": "stdout",
     "output_type": "stream",
     "text": [
      "http://teixeira.br/home/\n"
     ]
    }
   ],
   "source": [
    "print(fake.uri())"
   ]
  },
  {
   "cell_type": "code",
   "execution_count": 13,
   "id": "039e0a07-c6a3-41c0-a852-14e934d6a071",
   "metadata": {},
   "outputs": [
    {
     "name": "stdout",
     "output_type": "stream",
     "text": [
      "http://correia.com/\n"
     ]
    }
   ],
   "source": [
    "print(fake.url())"
   ]
  },
  {
   "cell_type": "code",
   "execution_count": 14,
   "id": "6988de77-8257-4095-8587-7526f5ce1222",
   "metadata": {},
   "outputs": [
    {
     "name": "stdout",
     "output_type": "stream",
     "text": [
      "Anestesiologista\n"
     ]
    }
   ],
   "source": [
    "print(fake.job())"
   ]
  },
  {
   "cell_type": "code",
   "execution_count": 15,
   "id": "c59ca38d-bb14-43c8-9ba9-f49abb488649",
   "metadata": {},
   "outputs": [
    {
     "name": "stdout",
     "output_type": "stream",
     "text": [
      "Maestro\n",
      "Mariana da Rocha\n",
      "502026157342 10/31\n",
      "CVV: 352\n",
      "\n"
     ]
    }
   ],
   "source": [
    "print(fake.credit_card_full())"
   ]
  },
  {
   "cell_type": "code",
   "execution_count": 16,
   "id": "463ad670-4a08-4b7d-bf3e-59657dd8c695",
   "metadata": {},
   "outputs": [
    {
     "data": {
      "text/plain": [
       "{'job': 'Médico cirurgião',\n",
       " 'company': 'Aragão',\n",
       " 'ssn': '35896472137',\n",
       " 'residence': 'Residencial Ribeiro, 911\\nIndependência\\n67794-601 Ferreira / RO',\n",
       " 'current_location': (Decimal('-41.022117'), Decimal('9.767334')),\n",
       " 'blood_group': 'AB+',\n",
       " 'website': ['https://www.moreira.com/',\n",
       "  'http://campos.com/',\n",
       "  'http://pires.br/',\n",
       "  'http://www.peixoto.br/'],\n",
       " 'username': 'aliciada-cunha',\n",
       " 'name': 'Marcos Vinicius Pinto',\n",
       " 'sex': 'M',\n",
       " 'address': 'Aeroporto Vieira, 22\\nVarzea Da Palma\\n50108692 Caldeira / AP',\n",
       " 'mail': 'davijesus@bol.com.br',\n",
       " 'birthdate': datetime.date(1907, 9, 13)}"
      ]
     },
     "execution_count": 16,
     "metadata": {},
     "output_type": "execute_result"
    }
   ],
   "source": [
    "fake.profile()"
   ]
  },
  {
   "cell_type": "markdown",
   "id": "697b4da9-e42c-4f00-9a5d-e369920b9274",
   "metadata": {},
   "source": []
  }
 ],
 "metadata": {
  "kernelspec": {
   "display_name": "Python 3 (ipykernel)",
   "language": "python",
   "name": "python3"
  },
  "language_info": {
   "codemirror_mode": {
    "name": "ipython",
    "version": 3
   },
   "file_extension": ".py",
   "mimetype": "text/x-python",
   "name": "python",
   "nbconvert_exporter": "python",
   "pygments_lexer": "ipython3",
   "version": "3.9.7"
  }
 },
 "nbformat": 4,
 "nbformat_minor": 5
}
